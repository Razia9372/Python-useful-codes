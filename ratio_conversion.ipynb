{
 "cells": [
  {
   "cell_type": "code",
   "execution_count": null,
   "id": "8c562fcb",
   "metadata": {},
   "outputs": [],
   "source": [
    "# For viz: Ratio of Movies & TV shows\n",
    "\n",
    "\n",
    "x=df.groupby(['type'])['type'].count()\n",
    "y=len(df)\n",
    "r=((x/y)).round(2)\n",
    "\n",
    "mf_ratio = pd.DataFrame(r).T\n",
    "\n",
    "# This code snippet calculates the ratio of counts of different types in a DataFrame (df)\n",
    "# and stores the results in a new DataFrame called mf_ratio."
   ]
  },
  {
   "cell_type": "code",
   "execution_count": 7,
   "id": "d4dab506",
   "metadata": {},
   "outputs": [
    {
     "name": "stdout",
     "output_type": "stream",
     "text": [
      "type    A    B    C\n",
      "type  0.4  0.3  0.3\n"
     ]
    }
   ],
   "source": [
    "# Example\n",
    "import pandas as pd\n",
    "\n",
    "# Sample DataFrame\n",
    "data = {\n",
    "    'type': ['A', 'B', 'A', 'C', 'B', 'A', 'C', 'C', 'B', 'A']\n",
    "}\n",
    "df = pd.DataFrame(data)\n",
    "\n",
    "# Group by 'type' and count occurrences\n",
    "x = df.groupby(['type'])['type'].count()\n",
    "\n",
    "# Total number of rows\n",
    "y = len(df)\n",
    "\n",
    "# Calculate ratio of each type\n",
    "r = (x / y).round(2)\n",
    "\n",
    "# Create a DataFrame with the ratios\n",
    "mf_ratio = pd.DataFrame(r).T\n",
    "\n",
    "print(mf_ratio)\n"
   ]
  },
  {
   "cell_type": "raw",
   "id": "de59bf4a",
   "metadata": {},
   "source": [
    "Now we use different ways to do the same. "
   ]
  },
  {
   "cell_type": "code",
   "execution_count": 1,
   "id": "8ac089bb",
   "metadata": {},
   "outputs": [
    {
     "name": "stdout",
     "output_type": "stream",
     "text": [
      "        A    B    C\n",
      "type  0.4  0.3  0.3\n"
     ]
    }
   ],
   "source": [
    "# Using value_counts()\n",
    "\n",
    "import pandas as pd\n",
    "\n",
    "# Sample DataFrame\n",
    "data = {\n",
    "    'type': ['A', 'B', 'A', 'C', 'B', 'A', 'C', 'C', 'B', 'A']\n",
    "}\n",
    "df = pd.DataFrame(data)\n",
    "\n",
    "# Count occurrences using value_counts\n",
    "counts = df['type'].value_counts(normalize=True).round(2)\n",
    "\n",
    "# Convert to DataFrame\n",
    "mf_ratio = counts.to_frame().T\n",
    "\n",
    "print(mf_ratio)\n"
   ]
  },
  {
   "cell_type": "code",
   "execution_count": 5,
   "id": "d915482b",
   "metadata": {},
   "outputs": [
    {
     "name": "stdout",
     "output_type": "stream",
     "text": [
      "type\n",
      "A    0.4\n",
      "B    0.3\n",
      "C    0.3\n",
      "dtype: float64\n"
     ]
    }
   ],
   "source": [
    "# Using pivot_table()\n",
    "import pandas as pd\n",
    "\n",
    "# Sample DataFrame\n",
    "data = {\n",
    "    'type': ['A', 'B', 'A', 'C', 'B', 'A', 'C', 'C', 'B', 'A']\n",
    "}\n",
    "df = pd.DataFrame(data)\n",
    "\n",
    "# Create a pivot table and normalize\n",
    "mf_ratio = pd.pivot_table(df, index=None, columns='type', aggfunc='size', fill_value=0) / len(df)\n",
    "mf_ratio = mf_ratio.round(2)\n",
    "\n",
    "print(mf_ratio)\n"
   ]
  },
  {
   "cell_type": "code",
   "execution_count": 6,
   "id": "ca8513cf",
   "metadata": {},
   "outputs": [
    {
     "name": "stdout",
     "output_type": "stream",
     "text": [
      "     A    B    C\n",
      "0  0.4  0.3  0.3\n"
     ]
    }
   ],
   "source": [
    "# Using a Dictionary Comprehension\n",
    "\n",
    "import pandas as pd\n",
    "\n",
    "# Sample DataFrame\n",
    "data = {\n",
    "    'type': ['A', 'B', 'A', 'C', 'B', 'A', 'C', 'C', 'B', 'A']\n",
    "}\n",
    "df = pd.DataFrame(data)\n",
    "\n",
    "# Calculate counts and ratios\n",
    "y = len(df)\n",
    "ratios = {t: (df['type'].value_counts()[t] / y).round(2) for t in df['type'].unique()}\n",
    "\n",
    "# Convert to DataFrame\n",
    "mf_ratio = pd.DataFrame(ratios, index=[0])\n",
    "\n",
    "print(mf_ratio)\n"
   ]
  },
  {
   "cell_type": "code",
   "execution_count": 8,
   "id": "a303955f",
   "metadata": {},
   "outputs": [
    {
     "name": "stdout",
     "output_type": "stream",
     "text": [
      "        A    B    C\n",
      "type  0.4  0.3  0.3\n"
     ]
    }
   ],
   "source": [
    "# Using apply()\n",
    "\n",
    "import pandas as pd\n",
    "\n",
    "# Sample DataFrame\n",
    "data = {\n",
    "    'type': ['A', 'B', 'A', 'C', 'B', 'A', 'C', 'C', 'B', 'A']\n",
    "}\n",
    "df = pd.DataFrame(data)\n",
    "\n",
    "# Total number of rows\n",
    "y = len(df)\n",
    "\n",
    "# Calculate the ratio using apply\n",
    "ratios = df['type'].value_counts().apply(lambda x: round(x / y, 2))\n",
    "\n",
    "# Convert to DataFrame\n",
    "mf_ratio = pd.DataFrame(ratios).T\n",
    "\n",
    "print(mf_ratio)\n"
   ]
  },
  {
   "cell_type": "raw",
   "id": "837090cc",
   "metadata": {},
   "source": [
    "All these methods achieve the same result but use different approaches or functions in pandas. Depending on your use case, you might choose one over the others based on readability, performance, or personal preference. If you have any further questions or specific requirements, feel free to ask!"
   ]
  }
 ],
 "metadata": {
  "kernelspec": {
   "display_name": "Python 3 (ipykernel)",
   "language": "python",
   "name": "python3"
  },
  "language_info": {
   "codemirror_mode": {
    "name": "ipython",
    "version": 3
   },
   "file_extension": ".py",
   "mimetype": "text/x-python",
   "name": "python",
   "nbconvert_exporter": "python",
   "pygments_lexer": "ipython3",
   "version": "3.9.13"
  }
 },
 "nbformat": 4,
 "nbformat_minor": 5
}
