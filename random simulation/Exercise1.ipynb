{
 "cells": [
  {
   "cell_type": "markdown",
   "id": "7e73c1a1",
   "metadata": {},
   "source": [
    "Simulating Random coin flips and die rolls using Numpy"
   ]
  },
  {
   "cell_type": "code",
   "execution_count": null,
   "id": "b5313e99",
   "metadata": {},
   "outputs": [],
   "source": [
    "import pandas as pd\n",
    "import numpy as np\n",
    "# This module is useful for generating random values and simulating random processes\n",
    "import matplotlib.pyplot as plt"
   ]
  },
  {
   "cell_type": "code",
   "execution_count": 9,
   "id": "5ca4b898",
   "metadata": {},
   "outputs": [
    {
     "name": "stdout",
     "output_type": "stream",
     "text": [
      "[5, 6, 1]\n"
     ]
    }
   ],
   "source": [
    "import numpy as np\n",
    "\n",
    "# Set a random seed for reproducibility\n",
    "np.random.seed(0)\n",
    "\n",
    "# Simulate rolling a die three times\n",
    "die_rolls = [np.random.randint(1, 7) for _ in range(3)]\n",
    "\n",
    "# Assert that the rolls match the expected output\n",
    "assert die_rolls == [5, 6, 1], f\"Expected [5, 6, 1], but got {die_rolls}\"\n",
    "\n",
    "# Print the results\n",
    "print(die_rolls)\n"
   ]
  },
  {
   "cell_type": "markdown",
   "id": "f123c726",
   "metadata": {},
   "source": [
    "setting the Seed to 1"
   ]
  },
  {
   "cell_type": "code",
   "execution_count": 10,
   "id": "c35d8d1d",
   "metadata": {},
   "outputs": [
    {
     "ename": "AssertionError",
     "evalue": "Expected [5, 6, 1], but got [6, 4, 5]",
     "output_type": "error",
     "traceback": [
      "\u001b[1;31m---------------------------------------------------------------------------\u001b[0m",
      "\u001b[1;31mAssertionError\u001b[0m                            Traceback (most recent call last)",
      "\u001b[1;32m~\\AppData\\Local\\Temp\\ipykernel_6352\\260225271.py\u001b[0m in \u001b[0;36m<module>\u001b[1;34m\u001b[0m\n\u001b[0;32m      8\u001b[0m \u001b[1;33m\u001b[0m\u001b[0m\n\u001b[0;32m      9\u001b[0m \u001b[1;31m# Assert that the rolls match the expected output\u001b[0m\u001b[1;33m\u001b[0m\u001b[1;33m\u001b[0m\u001b[0m\n\u001b[1;32m---> 10\u001b[1;33m \u001b[1;32massert\u001b[0m \u001b[0mdie_rolls\u001b[0m \u001b[1;33m==\u001b[0m \u001b[1;33m[\u001b[0m\u001b[1;36m5\u001b[0m\u001b[1;33m,\u001b[0m \u001b[1;36m6\u001b[0m\u001b[1;33m,\u001b[0m \u001b[1;36m1\u001b[0m\u001b[1;33m]\u001b[0m\u001b[1;33m,\u001b[0m \u001b[1;34mf\"Expected [5, 6, 1], but got {die_rolls}\"\u001b[0m\u001b[1;33m\u001b[0m\u001b[1;33m\u001b[0m\u001b[0m\n\u001b[0m\u001b[0;32m     11\u001b[0m \u001b[1;33m\u001b[0m\u001b[0m\n\u001b[0;32m     12\u001b[0m \u001b[1;31m# Print the results\u001b[0m\u001b[1;33m\u001b[0m\u001b[1;33m\u001b[0m\u001b[0m\n",
      "\u001b[1;31mAssertionError\u001b[0m: Expected [5, 6, 1], but got [6, 4, 5]"
     ]
    }
   ],
   "source": [
    "import numpy as np\n",
    "\n",
    "# Set a random seed for reproducibility\n",
    "np.random.seed(1)\n",
    "\n",
    "# Simulate rolling a die three times\n",
    "die_rolls = [np.random.randint(1, 7) for _ in range(3)]\n",
    "\n",
    "# Assert that the rolls match the expected output\n",
    "assert die_rolls == [5, 6, 1], f\"Expected [5, 6, 1], but got {die_rolls}\"\n",
    "\n",
    "# Print the results\n",
    "print(die_rolls)"
   ]
  },
  {
   "cell_type": "markdown",
   "id": "a36ec904",
   "metadata": {},
   "source": [
    "Applications\n",
    "\n",
    "This simple operation can be used in various scenarios, including:\n",
    "_Simulating random events (like rolling a die or drawing cards).\n",
    "_Creating random datasets for testing algorithms or functions.\n",
    "_Initializing weights in machine learning models randomly."
   ]
  },
  {
   "cell_type": "code",
   "execution_count": 11,
   "id": "6fd482b9",
   "metadata": {},
   "outputs": [
    {
     "name": "stdout",
     "output_type": "stream",
     "text": [
      "5.0\n"
     ]
    },
    {
     "ename": "AssertionError",
     "evalue": "The denominator must not be zero!",
     "output_type": "error",
     "traceback": [
      "\u001b[1;31m---------------------------------------------------------------------------\u001b[0m",
      "\u001b[1;31mAssertionError\u001b[0m                            Traceback (most recent call last)",
      "\u001b[1;32m~\\AppData\\Local\\Temp\\ipykernel_6352\\2752852006.py\u001b[0m in \u001b[0;36m<module>\u001b[1;34m\u001b[0m\n\u001b[0;32m      5\u001b[0m \u001b[1;33m\u001b[0m\u001b[0m\n\u001b[0;32m      6\u001b[0m \u001b[0mprint\u001b[0m\u001b[1;33m(\u001b[0m\u001b[0mdivide\u001b[0m\u001b[1;33m(\u001b[0m\u001b[1;36m10\u001b[0m\u001b[1;33m,\u001b[0m \u001b[1;36m2\u001b[0m\u001b[1;33m)\u001b[0m\u001b[1;33m)\u001b[0m  \u001b[1;31m# This will print 5.0\u001b[0m\u001b[1;33m\u001b[0m\u001b[1;33m\u001b[0m\u001b[0m\n\u001b[1;32m----> 7\u001b[1;33m \u001b[0mprint\u001b[0m\u001b[1;33m(\u001b[0m\u001b[0mdivide\u001b[0m\u001b[1;33m(\u001b[0m\u001b[1;36m10\u001b[0m\u001b[1;33m,\u001b[0m \u001b[1;36m0\u001b[0m\u001b[1;33m)\u001b[0m\u001b[1;33m)\u001b[0m  \u001b[1;31m# This will raise an AssertionError\u001b[0m\u001b[1;33m\u001b[0m\u001b[1;33m\u001b[0m\u001b[0m\n\u001b[0m",
      "\u001b[1;32m~\\AppData\\Local\\Temp\\ipykernel_6352\\2752852006.py\u001b[0m in \u001b[0;36mdivide\u001b[1;34m(a, b)\u001b[0m\n\u001b[0;32m      1\u001b[0m \u001b[1;31m#Important note:Assertion is a debugging aid for testing a condition\u001b[0m\u001b[1;33m\u001b[0m\u001b[1;33m\u001b[0m\u001b[0m\n\u001b[0;32m      2\u001b[0m \u001b[1;32mdef\u001b[0m \u001b[0mdivide\u001b[0m\u001b[1;33m(\u001b[0m\u001b[0ma\u001b[0m\u001b[1;33m,\u001b[0m \u001b[0mb\u001b[0m\u001b[1;33m)\u001b[0m\u001b[1;33m:\u001b[0m\u001b[1;33m\u001b[0m\u001b[1;33m\u001b[0m\u001b[0m\n\u001b[1;32m----> 3\u001b[1;33m     \u001b[1;32massert\u001b[0m \u001b[0mb\u001b[0m \u001b[1;33m!=\u001b[0m \u001b[1;36m0\u001b[0m\u001b[1;33m,\u001b[0m \u001b[1;34m\"The denominator must not be zero!\"\u001b[0m\u001b[1;33m\u001b[0m\u001b[1;33m\u001b[0m\u001b[0m\n\u001b[0m\u001b[0;32m      4\u001b[0m     \u001b[1;32mreturn\u001b[0m \u001b[0ma\u001b[0m \u001b[1;33m/\u001b[0m \u001b[0mb\u001b[0m\u001b[1;33m\u001b[0m\u001b[1;33m\u001b[0m\u001b[0m\n\u001b[0;32m      5\u001b[0m \u001b[1;33m\u001b[0m\u001b[0m\n",
      "\u001b[1;31mAssertionError\u001b[0m: The denominator must not be zero!"
     ]
    }
   ],
   "source": [
    "#Important note:Assertion is a debugging aid for testing a condition\n",
    "def divide(a, b):\n",
    "    assert b != 0, \"The denominator must not be zero!\"\n",
    "    return a / b\n",
    "\n",
    "print(divide(10, 2))  # This will print 5.0\n",
    "print(divide(10, 0))  # This will raise an AssertionError\n"
   ]
  },
  {
   "cell_type": "code",
   "execution_count": 12,
   "id": "ac3fb2ea",
   "metadata": {},
   "outputs": [
    {
     "name": "stdout",
     "output_type": "stream",
     "text": [
      "3.14\n"
     ]
    }
   ],
   "source": [
    "# hint for python codes\n",
    "# using F-string for floating points\n",
    "value = 3.14159\n",
    "formatted_value = f\"{value:.2f}\"\n",
    "print(formatted_value)  # Output: 3.14\n"
   ]
  },
  {
   "cell_type": "markdown",
   "id": "84fee85a",
   "metadata": {},
   "source": [
    "The .2f in the formatting specification of an f-string (or other string formatting methods) is used to format a floating-point number. Here’s a breakdown of what it means:\n",
    "\n",
    "Breakdown of .2f\n",
    ".: This indicates the start of the precision specifier.\n",
    "\n",
    "2: This is the precision value, which specifies the number of decimal places to display. In this case, 2 means that the number will be rounded and displayed with two digits after the decimal point.\n",
    "\n",
    "f: This stands for \"float\" and indicates that the number should be formatted as a floating-point number."
   ]
  },
  {
   "cell_type": "markdown",
   "id": "0d9b0dd8",
   "metadata": {},
   "source": [
    "Other Formatting Options\n",
    "You can also use similar formatting options for different types of data:\n",
    "\n",
    "d: For integers.\n",
    "e: For scientific notation.\n",
    "x: For hexadecimal format.\n"
   ]
  },
  {
   "cell_type": "code",
   "execution_count": 14,
   "id": "e78cfcce",
   "metadata": {},
   "outputs": [
    {
     "name": "stdout",
     "output_type": "stream",
     "text": [
      "Value: 42\n",
      "Value: 005\n",
      "Value:   123\n",
      "Value: 1,000,000\n"
     ]
    }
   ],
   "source": [
    "#To format integers using f-strings in Python, you can use the `d` format specifier. However, since integers don't have decimal places,\n",
    "#the formatting will not include any decimal points. Here are some examples of how to format integers with f-strings:\n",
    "\n",
    "### Example 1: Basic Integer Formatting\n",
    "\n",
    "number = 42\n",
    "formatted_number = f\"Value: {number:d}\"\n",
    "print(formatted_number)  # Output: Value: 42\n",
    "\n",
    "\n",
    "### Example 2: Padding with Leading Zeros\n",
    "\n",
    "#You can also specify width and padding. For example, to pad the integer with leading zeros:\n",
    "\n",
    "\n",
    "number = 5\n",
    "formatted_number = f\"Value: {number:03d}\"  # Pad with zeros to make it 3 digits\n",
    "print(formatted_number)  # Output: Value: 005\n",
    "\n",
    "\n",
    "### Example 3: Specifying Width\n",
    "\n",
    "#You can specify a width for the integer, which will add spaces for alignment if the number has fewer digits:\n",
    "\n",
    "number = 123\n",
    "formatted_number = f\"Value: {number:5d}\"  # Right-align in a field of width 5\n",
    "print(formatted_number)  # Output: Value:   123 (with spaces before 123)\n",
    "\n",
    "\n",
    "### Example 4: Using Commas as Thousands Separators\n",
    "\n",
    "#You can format integers to include commas for thousands separators:\n",
    "\n",
    "\n",
    "large_number = 1000000\n",
    "formatted_number = f\"Value: {large_number:,d}\"\n",
    "print(formatted_number)  # Output: Value: 1,000,000\n",
    "\n",
    "\n",
    "### Summary\n",
    "\n",
    "#- **`d`**: Used for integers.\n",
    "#- You can use additional formatting options like zero padding, width specification, and thousands separators.\n"
   ]
  },
  {
   "cell_type": "code",
   "execution_count": 17,
   "id": "340f3c2b",
   "metadata": {},
   "outputs": [
    {
     "name": "stdout",
     "output_type": "stream",
     "text": [
      "9\n",
      "[6 1 1 2 8]\n",
      "[ 7 26 51 21 19]\n",
      "4\n"
     ]
    }
   ],
   "source": [
    "#The `np.random.randint()` function in NumPy is used to generate random integers within a specified range. \n",
    "#Here’s a detailed breakdown of how it works:\n",
    "\n",
    "### Syntax\n",
    "\n",
    "\n",
    "# numpy.random.randint(low, high=None, size=None, dtype=int)\n",
    "\n",
    "\n",
    "### Parameters\n",
    "\n",
    "#- **`low`**: (int) The lower bound (inclusive) of the random integers to be generated.\n",
    "#- **`high`**: (int, optional) The upper bound (exclusive) of the random integers. If this parameter is not provided, the function will generate integers from `0` to `low`.\n",
    "#- **`size`**: (int or tuple of ints, optional) The number of random integers to generate. If not specified, a single integer is returned.\n",
    "#- **`dtype`**: (optional) The desired data type of the output array. Default is `int`.\n",
    "\n",
    "### Examples\n",
    "\n",
    "#### 1. Generate a Single Random Integer\n",
    "\n",
    "\n",
    "import numpy as np\n",
    "\n",
    "random_integer = np.random.randint(1, 10)  # Generates a random integer between 1 and 9\n",
    "print(random_integer)\n",
    "\n",
    "\n",
    "#### 2. Generate an Array of Random Integers\n",
    "\n",
    "\n",
    "random_array = np.random.randint(1, 10, size=5)  # Generates an array of 5 random integers between 1 and 9\n",
    "print(random_array)\n",
    "\n",
    "\n",
    "#### 3. Specifying the Data Type\n",
    "\n",
    "\n",
    "random_array = np.random.randint(1, 100, size=5, dtype=np.int32)  # Generates 5 random integers between 1 and 99\n",
    "print(random_array)\n",
    "\n",
    "\n",
    "#### 4. Using Only the Low Parameter\n",
    "\n",
    "#If you only provide the `low` parameter, it generates integers from `0` to `low`:\n",
    "\n",
    "\n",
    "random_integer = np.random.randint(5)  # Generates a random integer between 0 and 4\n",
    "print(random_integer)\n",
    "\n",
    "\n",
    "### Summary\n",
    "\n",
    "#`np.random.randint()` is a powerful and flexible function for generating random integers in a specified range.\n",
    "# You can generate single integers or arrays of integers, making it useful for simulations, random sampling, and other applications.\n",
    "\n"
   ]
  },
  {
   "cell_type": "code",
   "execution_count": 23,
   "id": "0123b6a3",
   "metadata": {},
   "outputs": [
    {
     "name": "stdout",
     "output_type": "stream",
     "text": [
      "Coin landed on tails\n"
     ]
    }
   ],
   "source": [
    "# setting the upper bound to 2 simulate a single flip of unbiased coin. \n",
    "# let's generate that coin flip by calling np.random.randint(0,2)\n",
    "\n",
    "# we assume that 0 stands for tails and 1 stands for heads\n",
    "np.random.seed(0)\n",
    "\n",
    "coin_flip = np.random.randint(0,2)\n",
    "print( f\"Coin landed on {'heads' if coin_flip == 1 else 'tails'}\")"
   ]
  },
  {
   "cell_type": "code",
   "execution_count": 24,
   "id": "b96f5f0b",
   "metadata": {},
   "outputs": [
    {
     "name": "stdout",
     "output_type": "stream",
     "text": [
      "Coin landed on heads\n"
     ]
    }
   ],
   "source": [
    "# setting the upper bound to 2 simulate a single flip of unbiased coin. \n",
    "# let's generate that coin flip by calling np.random.randint(0,2)\n",
    "\n",
    "# we assume that 0 stands for tails and 1 stands for heads\n",
    "#changing the seed to 1\n",
    "np.random.seed(1)\n",
    "\n",
    "coin_flip = np.random.randint(0,2)\n",
    "print( f\"Coin landed on {'heads' if coin_flip == 1 else 'tails'}\")"
   ]
  },
  {
   "cell_type": "code",
   "execution_count": 26,
   "id": "2d3de446",
   "metadata": {},
   "outputs": [
    {
     "name": "stdout",
     "output_type": "stream",
     "text": [
      "1\n"
     ]
    }
   ],
   "source": [
    "#Using Assertion \n",
    "# setting the upper bound to 2 simulate a single flip of unbiased coin. \n",
    "# let's generate that coin flip by calling np.random.randint(0,2)\n",
    "\n",
    "# we assume that 0 stands for tails and 1 stands for heads\n",
    "#changing the seed to 1\n",
    "np.random.seed(1)\n",
    "\n",
    "coin_flip = np.random.randint(0,2)\n",
    "\n",
    "assert coin_flip == 1, f\"Coin landed on {tails}\"\n",
    "\n",
    "print(coin_flip)"
   ]
  },
  {
   "cell_type": "code",
   "execution_count": 29,
   "id": "0baec4a1",
   "metadata": {},
   "outputs": [
    {
     "ename": "AssertionError",
     "evalue": "Coin landed on tail",
     "output_type": "error",
     "traceback": [
      "\u001b[1;31m---------------------------------------------------------------------------\u001b[0m",
      "\u001b[1;31mAssertionError\u001b[0m                            Traceback (most recent call last)",
      "\u001b[1;32m~\\AppData\\Local\\Temp\\ipykernel_6352\\843833054.py\u001b[0m in \u001b[0;36m<module>\u001b[1;34m\u001b[0m\n\u001b[0;32m      9\u001b[0m \u001b[0mcoin_flip\u001b[0m \u001b[1;33m=\u001b[0m \u001b[0mnp\u001b[0m\u001b[1;33m.\u001b[0m\u001b[0mrandom\u001b[0m\u001b[1;33m.\u001b[0m\u001b[0mrandint\u001b[0m\u001b[1;33m(\u001b[0m\u001b[1;36m0\u001b[0m\u001b[1;33m,\u001b[0m\u001b[1;36m2\u001b[0m\u001b[1;33m)\u001b[0m\u001b[1;33m\u001b[0m\u001b[1;33m\u001b[0m\u001b[0m\n\u001b[0;32m     10\u001b[0m \u001b[1;33m\u001b[0m\u001b[0m\n\u001b[1;32m---> 11\u001b[1;33m \u001b[1;32massert\u001b[0m \u001b[0mcoin_flip\u001b[0m \u001b[1;33m==\u001b[0m \u001b[1;36m1\u001b[0m\u001b[1;33m,\u001b[0m \u001b[1;34mf\"Coin landed on tail\"\u001b[0m\u001b[1;33m\u001b[0m\u001b[1;33m\u001b[0m\u001b[0m\n\u001b[0m\u001b[0;32m     12\u001b[0m \u001b[1;33m\u001b[0m\u001b[0m\n\u001b[0;32m     13\u001b[0m \u001b[0mprint\u001b[0m\u001b[1;33m(\u001b[0m\u001b[0mcoin_flip\u001b[0m\u001b[1;33m)\u001b[0m\u001b[1;33m\u001b[0m\u001b[1;33m\u001b[0m\u001b[0m\n",
      "\u001b[1;31mAssertionError\u001b[0m: Coin landed on tail"
     ]
    }
   ],
   "source": [
    "#Using Assertion \n",
    "# setting the upper bound to 2 simulate a single flip of unbiased coin. \n",
    "# let's generate that coin flip by calling np.random.randint(0,2)\n",
    "\n",
    "# we assume that 0 stands for tails and 1 stands for heads\n",
    "#changing the seed to 0\n",
    "np.random.seed(0)\n",
    "\n",
    "coin_flip = np.random.randint(0,2)\n",
    "\n",
    "assert coin_flip == 1, f\"Coin landed on tail\"\n",
    "\n",
    "print(coin_flip)"
   ]
  }
 ],
 "metadata": {
  "kernelspec": {
   "display_name": "Python 3 (ipykernel)",
   "language": "python",
   "name": "python3"
  },
  "language_info": {
   "codemirror_mode": {
    "name": "ipython",
    "version": 3
   },
   "file_extension": ".py",
   "mimetype": "text/x-python",
   "name": "python",
   "nbconvert_exporter": "python",
   "pygments_lexer": "ipython3",
   "version": "3.9.13"
  }
 },
 "nbformat": 4,
 "nbformat_minor": 5
}
